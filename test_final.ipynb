{
 "cells": [
  {
   "cell_type": "raw",
   "id": "928f818d",
   "metadata": {},
   "source": [
    "Good day. What is your problem? Enter your response here or Q to quit: my teacher hates me\n",
    "Why do you say that \"my teacher hates me\"?\n",
    "Enter your response here or Q to quit: she always calls on the girls in the class\n",
    "Please tell me more \n",
    "Enter your response here or Q to quit: i would like to get called on too\n",
    "You seem to think that \"I would like to get called on too\" why?\n",
    "Enter your response here or Q to quit: q"
   ]
  },
  {
   "cell_type": "code",
   "execution_count": 27,
   "id": "49fee088",
   "metadata": {},
   "outputs": [
    {
     "name": "stdout",
     "output_type": "stream",
     "text": [
      "Good day. What is your problem? \n",
      "Your response (type 'Q' to quit) my teacher hates me\n",
      "Why do you say that my teacher hates me\n",
      "Your response (type 'Q' to quit) she always calls on the girls\n",
      "You seem to think that she always calls on the girls\n",
      "Your response (type 'Q' to quit) Yes and I want her to call on me\n",
      "You seem to think that Yes and I want her to call on me\n",
      "Your response (type 'Q' to quit) can you stop repeating\n",
      "You seem to think that can you stop repeating\n",
      "Your response (type 'Q' to quit) Q\n"
     ]
    }
   ],
   "source": [
    "import random\n",
    "print(\"Good day. What is your problem? \")\n",
    "\n",
    "while x <= 5 :\n",
    "    answer = input(\"Your response (type 'Q' to quit) \")\n",
    "    if (answer == 'Q') :\n",
    "        break\n",
    "    else :\n",
    "        if (answer != 'Q') :\n",
    "            response = [\"You seem to think that \", \"Why do you say that \", \"Please tell me more why you feel\", \"Why do you feel \"]\n",
    "            a = (random.choice(response))\n",
    "            print(a+ f\"{answer}\")\n",
    "            \n",
    "# got this to work only when I added x, but not sure it is needed here.  \n",
    "# not perfect yet, since I could add more responses ending with why etc, but without rand I did get the same sequence of strings below."
   ]
  },
  {
   "cell_type": "code",
   "execution_count": 28,
   "id": "7ffa3ebe",
   "metadata": {},
   "outputs": [
    {
     "name": "stdout",
     "output_type": "stream",
     "text": [
      "What is your problem? \n",
      "Your response (type 'Q' to quit) my teacher hates me\n",
      "Why do you say that \"my teacher hates me\"? \n",
      "Your response (type 'Q' to quit) she always calls on the girls in the class\n",
      "Please tell me more\n",
      "Your response (type 'Q' to quit) I would like to get called on too\n",
      "You seem to think that \"I would like to get called on too\", why?\n",
      "Your response (type 'Q' to quit) Q\n"
     ]
    }
   ],
   "source": [
    "print(\"What is your problem? \")\n",
    "response1 = input(\"Your response (type 'Q' to quit) \")\n",
    "print(f\"Why do you say that \\\"{response1}\\\"? \")\n",
    "response2 = input(\"Your response (type 'Q' to quit) \")\n",
    "print(\"Please tell me more\")\n",
    "response3 = input(\"Your response (type 'Q' to quit) \")\n",
    "print(f\"You seem to think that \\\"{response3}\\\", why?\")\n",
    "response4 = input(\"Your response (type 'Q' to quit) \")"
   ]
  },
  {
   "cell_type": "code",
   "execution_count": null,
   "id": "42cec272",
   "metadata": {},
   "outputs": [],
   "source": []
  }
 ],
 "metadata": {
  "kernelspec": {
   "display_name": "Python 3 (ipykernel)",
   "language": "python",
   "name": "python3"
  },
  "language_info": {
   "codemirror_mode": {
    "name": "ipython",
    "version": 3
   },
   "file_extension": ".py",
   "mimetype": "text/x-python",
   "name": "python",
   "nbconvert_exporter": "python",
   "pygments_lexer": "ipython3",
   "version": "3.9.13"
  }
 },
 "nbformat": 4,
 "nbformat_minor": 5
}
